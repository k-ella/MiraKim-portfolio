{
  "nbformat": 4,
  "nbformat_minor": 0,
  "metadata": {
    "colab": {
      "private_outputs": true,
      "provenance": []
    },
    "kernelspec": {
      "name": "python3",
      "display_name": "Python 3"
    },
    "language_info": {
      "name": "python"
    }
  },
  "cells": [
    {
      "cell_type": "code",
      "execution_count": null,
      "metadata": {
        "id": "JQCNkVkpi3Nd"
      },
      "outputs": [],
      "source": [
        "import pandas as pd\n",
        "import numpy as np\n",
        "import matplotlib.pyplot as plt"
      ]
    },
    {
      "cell_type": "code",
      "source": [
        "# Ensure all rows and columns are displayed without truncation.\n",
        "pd.set_option('display.max_rows', None)  # 모든 행 출력\n",
        "pd.set_option('display.max_columns', None)  # 모든 열 출력"
      ],
      "metadata": {
        "id": "TWa-PZ-Z35Nm"
      },
      "execution_count": null,
      "outputs": []
    },
    {
      "cell_type": "code",
      "source": [
        "df = pd.read_csv(\"/content/pub.csv\")"
      ],
      "metadata": {
        "id": "FUbZpBpVj586"
      },
      "execution_count": null,
      "outputs": []
    },
    {
      "cell_type": "code",
      "source": [
        "# Check column names, types and value counts.\n",
        "df.info()"
      ],
      "metadata": {
        "id": "KWMoJcIij-MA",
        "collapsed": true
      },
      "execution_count": null,
      "outputs": []
    },
    {
      "cell_type": "code",
      "source": [
        "df.head(10)"
      ],
      "metadata": {
        "id": "ZZ1VLhWVnMqC",
        "collapsed": true
      },
      "execution_count": null,
      "outputs": []
    },
    {
      "cell_type": "code",
      "source": [
        "# Identify missing values.\n",
        "print(df.isnull().sum())"
      ],
      "metadata": {
        "id": "fL4sh0QZnP99",
        "collapsed": true
      },
      "execution_count": null,
      "outputs": []
    },
    {
      "cell_type": "code",
      "source": [
        "missing_ratio = (df.isnull().mean() * 100).round(2)\n",
        "print(missing_ratio)"
      ],
      "metadata": {
        "id": "Hc9PMEb63QJU",
        "collapsed": true
      },
      "execution_count": null,
      "outputs": []
    },
    {
      "cell_type": "code",
      "source": [
        "# Check for duplicate rows.\n",
        "df.duplicated().sum()"
      ],
      "metadata": {
        "id": "0159vdLmOSAg"
      },
      "execution_count": null,
      "outputs": []
    },
    {
      "cell_type": "code",
      "source": [
        "# Correct incorrect column names.\n",
        "df = df.rename(columns = {'ahrsmian' : 'ahrsmain', 'atothur': 'atothrs'})"
      ],
      "metadata": {
        "id": "tucPs_SR7iNz"
      },
      "execution_count": null,
      "outputs": []
    },
    {
      "cell_type": "code",
      "source": [
        "# Convert specific columns from numeric to categorical data types.\n",
        "columns_exclude = ['id', 'rec_num', 'survyear', 'survmnth', 'durunemp', 'wksaway', 'uhrsmain', 'ahrsmain', 'utothrs', 'atothrs', 'hrsaway', 'paidot', 'unpaidot', 'xtrahrs', 'tenure',\n",
        "                   'prevten', 'hrlyearn', 'durjless', 'finalwt']\n",
        "columns_numeric = ['durunemp', 'wksaway', 'uhrsmain', 'ahrsmain', 'utothrs', 'atothrs', 'hrsaway', 'paidot', 'unpaidot', 'xtrahrs', 'tenure',\n",
        "                   'prevten', 'hrlyearn', 'durjless', 'finalwt']\n",
        "\n",
        "columns_category = df.columns.difference(columns_exclude)\n",
        "df[columns_category] = df[columns_category].astype('category')\n",
        "\n",
        "df.info()"
      ],
      "metadata": {
        "id": "Q6KHPwZZkWJE",
        "collapsed": true
      },
      "execution_count": null,
      "outputs": []
    },
    {
      "cell_type": "code",
      "source": [
        "# Review basic statistical metrics for numeric columns.\n",
        "df[columns_numeric].describe()"
      ],
      "metadata": {
        "id": "h-smOE626wIQ"
      },
      "execution_count": null,
      "outputs": []
    },
    {
      "cell_type": "code",
      "source": [
        "# Review basic statistical metrics for categorical columns.\n",
        "df[columns_category].describe()"
      ],
      "metadata": {
        "id": "ey7Iyb6C6zSO"
      },
      "execution_count": null,
      "outputs": []
    },
    {
      "cell_type": "code",
      "source": [
        "# Analyze the distribution of numeric columns.\n",
        "for col in columns_numeric:\n",
        "    plt.figure(figsize=(6, 4))\n",
        "    df[[col]].boxplot()\n",
        "    plt.title(f'Boxplot of {col}')\n",
        "    plt.ylabel('Values')\n",
        "    plt.show()"
      ],
      "metadata": {
        "id": "Cf3uNBZIF8_k"
      },
      "execution_count": null,
      "outputs": []
    },
    {
      "cell_type": "code",
      "source": [
        "# Analyze the distribution of categorical columns.\n",
        "for col in columns_category:\n",
        "    plt.figure(figsize=(8, 4))\n",
        "    df[col].value_counts().plot(kind='bar')\n",
        "    plt.title(f'Distribution of {col}')\n",
        "    plt.xlabel('Category')\n",
        "    plt.ylabel('Count')\n",
        "    plt.xticks(rotation=90)\n",
        "    plt.show()"
      ],
      "metadata": {
        "id": "hQ0z6cEZLBJV",
        "collapsed": true
      },
      "execution_count": null,
      "outputs": []
    },
    {
      "cell_type": "code",
      "source": [
        "# Filter data for currently employed workers, public or private sector employees (excluding self-employed), full-time workers, permanent positions, and major metropolitan areas.\n",
        "df_fliterd = df[(df['lfsstat'] == 1) & (df['cowmain'].isin([1, 2])) & (df['ftptmain'] == 1) & (df['permtemp'] == 1) & (df['cma'] != 0)]\n",
        "df_fliterd.info()"
      ],
      "metadata": {
        "id": "foh_JWgGrJo7"
      },
      "execution_count": null,
      "outputs": []
    },
    {
      "cell_type": "code",
      "source": [
        "print(df_fliterd.isnull().sum())"
      ],
      "metadata": {
        "collapsed": true,
        "id": "Kmoeqkm40EjO"
      },
      "execution_count": null,
      "outputs": []
    },
    {
      "cell_type": "code",
      "source": [
        "# Select relevant columns based on the provided codebook.\n",
        "selected_catetory = ['cma', 'naics_21', 'noc_10', 'noc_43', 'union']\n",
        "selected_number = ['ahrsmain', 'paidot', 'unpaidot', 'tenure', 'hrlyearn']"
      ],
      "metadata": {
        "id": "R3bXqEALkrGO"
      },
      "execution_count": null,
      "outputs": []
    },
    {
      "cell_type": "code",
      "source": [
        "# Analyze the distribution of numeric columns in the filtered dataset.\n",
        "for col in selected_number:\n",
        "    plt.figure(figsize=(6, 4))\n",
        "    df_fliterd[[col]].boxplot()\n",
        "    plt.title(f'Boxplot of {col}')\n",
        "    plt.ylabel('Values')\n",
        "    plt.show()"
      ],
      "metadata": {
        "collapsed": true,
        "id": "kKfax6uI46pB"
      },
      "execution_count": null,
      "outputs": []
    },
    {
      "cell_type": "code",
      "source": [
        "# Analyze the distribution of categorical columns in the filtered dataset.\n",
        "for col in selected_catetory:\n",
        "    plt.figure(figsize=(8, 4))\n",
        "    df_fliterd[col].value_counts().plot(kind='bar')\n",
        "    plt.title(f'Distribution of {col}')\n",
        "    plt.xlabel('Category')\n",
        "    plt.ylabel('Count')\n",
        "    plt.xticks(rotation=90)\n",
        "    plt.show()"
      ],
      "metadata": {
        "id": "FVfEnSrKKyN3",
        "collapsed": true
      },
      "execution_count": null,
      "outputs": []
    }
  ]
}